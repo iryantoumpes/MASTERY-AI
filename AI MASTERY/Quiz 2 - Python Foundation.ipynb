{
 "cells": [
  {
   "cell_type": "markdown",
   "id": "ca3b1f96",
   "metadata": {},
   "source": [
    "# program untuk menentukan gaji karyawan"
   ]
  },
  {
   "cell_type": "code",
   "execution_count": 2,
   "id": "20bf1ebb",
   "metadata": {},
   "outputs": [
    {
     "name": "stdout",
     "output_type": "stream",
     "text": [
      "masukan nama:ian\n",
      "golongan: A\n",
      "masukan jumlah jam:20\n",
      "3000000000\n"
     ]
    }
   ],
   "source": [
    "#sourcode \n",
    "nama =str (input(\"masukan nama:\"))\n",
    "gol = input(\"golongan: \")\n",
    "jam = int(input(\"masukan jumlah jam:\"))\n",
    "gaji = 30000\n",
    "\n",
    "if   gol==\"A\":\n",
    "   upah=5000*gaji;\n",
    "elif gol==\"B\":\n",
    "   upah=7000*gaji;\n",
    "elif gol==\"C\":\n",
    "   upah=8000*gaji;\n",
    "elif gol==\"D\":\n",
    "   upah=10000*gaji;\n",
    "else:\n",
    "    print(\"tidak ada golongan\")\n",
    "#menghitung rumus\n",
    "if jam >=48:\n",
    "   lembur = jam - 48\n",
    "   rumus= 48 * upah + lembur * 4000\n",
    "else :\n",
    "    rumus=jam*upah\n",
    "print(rumus)\n"
   ]
  },
  {
   "cell_type": "markdown",
   "id": "f3b87d7a",
   "metadata": {},
   "source": [
    "# program python untuk menampilkan gambar segitiga"
   ]
  },
  {
   "cell_type": "code",
   "execution_count": 4,
   "id": "c2a43cbe",
   "metadata": {},
   "outputs": [
    {
     "name": "stdout",
     "output_type": "stream",
     "text": [
      "Masukkan maks jumlah kolom/baris : 12\n",
      "* \n",
      "* * \n",
      "* * * \n",
      "* * * * \n",
      "* * * * * \n",
      "* * * * * * \n",
      "* * * * * * * \n",
      "* * * * * * * * \n",
      "* * * * * * * * * \n",
      "* * * * * * * * * * \n",
      "* * * * * * * * * * * \n",
      "* * * * * * * * * * * * \n"
     ]
    }
   ],
   "source": [
    "maks = int(input(\"Masukkan maks jumlah kolom/baris : \"));\n",
    "for bintang in range (0,maks,1):\n",
    "    for pola in range (0, bintang+1,1):\n",
    "        print(\"* \",end=\"\")\n",
    "    print(\"\")\n"
   ]
  }
 ],
 "metadata": {
  "kernelspec": {
   "display_name": "Python 3 (ipykernel)",
   "language": "python",
   "name": "python3"
  },
  "language_info": {
   "codemirror_mode": {
    "name": "ipython",
    "version": 3
   },
   "file_extension": ".py",
   "mimetype": "text/x-python",
   "name": "python",
   "nbconvert_exporter": "python",
   "pygments_lexer": "ipython3",
   "version": "3.9.7"
  }
 },
 "nbformat": 4,
 "nbformat_minor": 5
}
