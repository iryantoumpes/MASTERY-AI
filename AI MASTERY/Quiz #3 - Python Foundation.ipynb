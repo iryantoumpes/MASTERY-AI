{
 "cells": [
  {
   "cell_type": "markdown",
   "id": "50f58130",
   "metadata": {},
   "source": [
    "# Nomor 1"
   ]
  },
  {
   "cell_type": "code",
   "execution_count": 1,
   "id": "fa76bca6",
   "metadata": {},
   "outputs": [
    {
     "name": "stdout",
     "output_type": "stream",
     "text": [
      "(8, 2, 0, 3, 7)\n",
      "jumlah adalah:  20\n"
     ]
    }
   ],
   "source": [
    "list=(8,2,0,3,7)\n",
    "def jumlah(list):\n",
    "  jml=0\n",
    "  for i in list:\n",
    "    jml=jml+i\n",
    "  return jml\n",
    "list=(8,2,0,3,7)\n",
    "print(list)\n",
    "print(\"jumlah adalah: \" ,jumlah(list))"
   ]
  },
  {
   "cell_type": "markdown",
   "id": "bfaf8c0a",
   "metadata": {},
   "source": [
    "# Nomor 2"
   ]
  },
  {
   "cell_type": "code",
   "execution_count": 3,
   "id": "1c523c76",
   "metadata": {},
   "outputs": [
    {
     "name": "stdout",
     "output_type": "stream",
     "text": [
      "input asal: \n",
      "['Red', 'Blue', 'Black', 'White', 'Pink']\n",
      "output:\n",
      "[['R', 'e', 'd'], ['B', 'l', 'u', 'e'], ['B', 'l', 'a', 'c', 'k'], ['W', 'h', 'i', 't', 'e'], ['P', 'i', 'n', 'k']]\n"
     ]
    }
   ],
   "source": [
    "color = ['Red', 'Blue', 'Black', 'White', 'Pink'] \n",
    "print(\"input asal: \")\n",
    "print(color) \n",
    "print(\"output:\") \n",
    "result = list(map(list, color)) \n",
    "print(result)"
   ]
  },
  {
   "cell_type": "markdown",
   "id": "6a76d3e5",
   "metadata": {},
   "source": [
    "# Nomor 3"
   ]
  },
  {
   "cell_type": "code",
   "execution_count": 2,
   "id": "a730a3a1",
   "metadata": {},
   "outputs": [
    {
     "name": "stdout",
     "output_type": "stream",
     "text": [
      "list angka\n",
      "[6, 5, 3, 9]\n",
      "[0, 1, 7, 7]\n",
      "hasil penjumlahan list\n",
      "[6, 6, 10, 16]\n"
     ]
    }
   ],
   "source": [
    "list1 = [6, 5, 3, 9]\n",
    "\n",
    "list2 = [0, 1, 7, 7]\n",
    "\n",
    "sum_list = [a + b for a, b in zip(list1, list2)]\n",
    "\n",
    "print(\"list angka\")\n",
    "print(list1)\n",
    "print(list2)\n",
    "print(\"hasil penjumlahan list\")\n",
    "print(sum_list)"
   ]
  },
  {
   "cell_type": "markdown",
   "id": "6cca99d1",
   "metadata": {},
   "source": [
    "# Nomor 4"
   ]
  },
  {
   "cell_type": "code",
   "execution_count": 3,
   "id": "a78c3eb9",
   "metadata": {},
   "outputs": [
    {
     "name": "stdout",
     "output_type": "stream",
     "text": [
      "Masukan bilangan awal: 1\n",
      "Masukan bilangan akhir: 10\n",
      "Daftar bilangan: [1, 2, 3, 4, 5, 6, 7, 8, 9, 10]\n",
      "genap: 2, 4, 6, 8, 10\n",
      "ganjil: 1, 3, 5, 7, 9\n"
     ]
    }
   ],
   "source": [
    "bil_awal = int(input('Masukan bilangan awal: '))\n",
    "bil_akhir = int(input('Masukan bilangan akhir: '))\n",
    " \n",
    "list_bil = [i for i in range(bil_awal, bil_akhir +1 )]\n",
    "print('Daftar bilangan: {}'.format(list_bil))\n",
    " \n",
    "bil_genap = []\n",
    "bil_ganjil = []\n",
    " \n",
    "for bil in list_bil:\n",
    "    if bil % 2 == 0:\n",
    "        bil_genap.append(bil)\n",
    "    else:\n",
    "        bil_ganjil.append(bil)\n",
    " \n",
    "print('genap: {}'.format(', '.join([str(bil) for bil in bil_genap])))\n",
    "print('ganjil: {}'.format(', '.join([str(bil) for bil in bil_ganjil])))"
   ]
  },
  {
   "cell_type": "code",
   "execution_count": null,
   "id": "dfd37075",
   "metadata": {},
   "outputs": [],
   "source": []
  }
 ],
 "metadata": {
  "kernelspec": {
   "display_name": "Python 3 (ipykernel)",
   "language": "python",
   "name": "python3"
  },
  "language_info": {
   "codemirror_mode": {
    "name": "ipython",
    "version": 3
   },
   "file_extension": ".py",
   "mimetype": "text/x-python",
   "name": "python",
   "nbconvert_exporter": "python",
   "pygments_lexer": "ipython3",
   "version": "3.9.7"
  }
 },
 "nbformat": 4,
 "nbformat_minor": 5
}
