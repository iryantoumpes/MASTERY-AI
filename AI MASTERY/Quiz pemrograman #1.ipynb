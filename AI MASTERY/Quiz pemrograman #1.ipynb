{
 "cells": [
  {
   "cell_type": "markdown",
   "id": "46d74075",
   "metadata": {},
   "source": [
    "# Mengkonversikan suhu celcius menjadi 3 jenis suhu lainnya dalam bahasa python."
   ]
  },
  {
   "cell_type": "code",
   "execution_count": 1,
   "id": "b04e2fd8",
   "metadata": {},
   "outputs": [
    {
     "name": "stdout",
     "output_type": "stream",
     "text": [
      "Program Konversi Suhu\n",
      "=======================\n",
      "Masukan Skala Celcius: 90\n",
      "++++++++++++++++++++++++++++++++++++++++++++\n",
      "Hasil Konnversi Suhu 90 C adalah 72.0 Reamur\n",
      "Hasil Konversi Suhu 90 C adalah 194.0 Farenheit\n",
      "Hasil Konversi Suhu 90 C adalah 363 Kelvin\n",
      "++++++++++++++++++++++++++++++++++++++++++++++\n"
     ]
    }
   ],
   "source": [
    "# program untuk menghitung suhu\n",
    " \n",
    "# convert celcius to reamur\n",
    "def conv_reamur(celcius):\n",
    "    convert_reamur = 4 * celcius / 5\n",
    "    return convert_reamur\n",
    " \n",
    "# convert celcius to farenheit\n",
    "def conv_farenheit(celcius):\n",
    "    convert_farenheit = 9 * celcius / 5 + 32\n",
    "    return convert_farenheit\n",
    " \n",
    "# convert celcius to kelvin\n",
    "def conv_kelvin(celcius):\n",
    "    convert_kelvin = celcius + 273\n",
    "    return convert_kelvin\n",
    " \n",
    "# create main menu\n",
    "def main():\n",
    "    print('Program Konversi Suhu')\n",
    "    print('=======================')\n",
    "    \n",
    " \n",
    "    # create input\n",
    "    temperature = int(input('Masukan Skala Celcius: '))\n",
    " \n",
    "    # cetak hasil\n",
    "    print('++++++++++++++++++++++++++++++++++++++++++++')\n",
    "    print(f'Hasil Konnversi Suhu {temperature} C adalah {conv_reamur(temperature)} Reamur')\n",
    "    print(f'Hasil Konversi Suhu {temperature} C adalah {conv_farenheit(temperature)} Farenheit')\n",
    "    print(f'Hasil Konversi Suhu {temperature} C adalah {conv_kelvin(temperature)} Kelvin')\n",
    "    print('++++++++++++++++++++++++++++++++++++++++++++++')\n",
    " \n",
    "if __name__=='__main__':\n",
    "    main()"
   ]
  },
  {
   "cell_type": "markdown",
   "id": "d5be7110",
   "metadata": {},
   "source": [
    "# Program yang meminta data inputan"
   ]
  },
  {
   "cell_type": "code",
   "execution_count": 2,
   "id": "ced2095b",
   "metadata": {},
   "outputs": [
    {
     "name": "stdout",
     "output_type": "stream",
     "text": [
      "input nama: iryanto Umpes\n",
      "input nim: 4611419089\n",
      "input fakultas: fmipa\n",
      "jurusan: ilkom\n",
      "asal: Raja Ampat\n",
      "input alamat: Waisai\n",
      "================================\n",
      "Biodata anda adalah: \n",
      "nama: iryanto Umpes\n",
      "nim: 4611419089\n",
      "fakultas: fmipa\n",
      "jurusan: ilkom\n",
      "asal: Raja Ampat\n",
      "alamat: Waisai\n"
     ]
    }
   ],
   "source": [
    "def run():\n",
    "    nama = input('input nama: ')\n",
    "    nim = input('input nim: ')\n",
    "    fakultas = input('input fakultas: ')\n",
    "    jurusan = input('jurusan: ')\n",
    "    asal = input('asal: ')\n",
    "    alamat = input('input alamat: ')\n",
    " \n",
    "    print('================================')\n",
    "    print('Biodata anda adalah: ')\n",
    "    print('nama: ' + nama)\n",
    "    print('nim: ' + nim)\n",
    "    print('fakultas: ' + fakultas)\n",
    "    print('jurusan: ' + jurusan)\n",
    "    print('asal: ' + asal)\n",
    "    print('alamat: ' + alamat)\n",
    " \n",
    "if __name__ == '__main__':\n",
    "    run()"
   ]
  },
  {
   "cell_type": "markdown",
   "id": "df5b667d",
   "metadata": {},
   "source": [
    "# Persamaan kuadrat"
   ]
  },
  {
   "cell_type": "code",
   "execution_count": 3,
   "id": "d1d681a9",
   "metadata": {},
   "outputs": [
    {
     "name": "stdout",
     "output_type": "stream",
     "text": [
      "bentuk persamaan kuadrat : ax^2+bx+c=0\n",
      "a = 3\n",
      "b = 4\n",
      "c = 4\n",
      "Jenis akarnya adalah 2 kembar berbeda dan imajiner \n",
      "Akar dari persamaan kuadrat adalah (-0.6666666666666666+0.9428090415820635j) dan (-0.6666666666666666-0.9428090415820635j)\n",
      "dengan Diskriminan : , D\n"
     ]
    }
   ],
   "source": [
    "import cmath as cm\n",
    "#--------------------------------------#\n",
    "#Program penyelesaian persamaan kuadrat#\n",
    "#--------------------------------------#\n",
    "\n",
    "print('bentuk persamaan kuadrat : ax^2+bx+c=0')\n",
    "#input\n",
    "a = float(input('a = '))\n",
    "b = float(input('b = '))\n",
    "c = float(input('c = '))\n",
    "\n",
    "#mengecek apakah nilai a=0\n",
    "if a==0 :\n",
    "  print('Nilai a tidak boleh nol')\n",
    "else:\n",
    "  D = b**2 - 4*a*c\n",
    "  #Cek Nilai Diskriminan\n",
    "if D>0:  \n",
    "  x1 =(-b+cm.sqrt(D))/(2*a)\n",
    "  x2 =(-b-cm.sqrt(D))/(2*a)\n",
    "  print('Jenis akarnya 2 akar berbeda dan real')\n",
    "elif D==0 :\n",
    "  x1 = (-b/(2*a))\n",
    "  x2 = (-b/(2*a))\n",
    "  print('jenis akarnya adalah 2 akar yang kembar dan real')\n",
    "else:\n",
    "  x1 =(-b+cm.sqrt(D))/(2*a)\n",
    "  x2 =(-b-cm.sqrt(D))/(2*a)\n",
    "  print('Jenis akarnya adalah 2 kembar berbeda dan imajiner ')\n",
    "print('Akar dari persamaan kuadrat adalah '+str(x1)+' dan '+str(x2))  \n",
    "print('dengan Diskriminan : , D')"
   ]
  },
  {
   "cell_type": "markdown",
   "id": "bce9da6d",
   "metadata": {},
   "source": [
    "# Membuat sebuahmenu berulang¶"
   ]
  },
  {
   "cell_type": "code",
   "execution_count": null,
   "id": "d8da57b9",
   "metadata": {},
   "outputs": [
    {
     "name": "stdout",
     "output_type": "stream",
     "text": [
      "\n",
      "    ==============================\n",
      "    \n",
      "    Coffe ku  \n",
      "    List Menu Minuman Kopi \n",
      " \n",
      "    ==============================\n",
      "    A. ES Kopi Susu : Rp 11.000\n",
      "    B. ES Kopi Coklat : Rp 12.000\n",
      "    C. ES Kopi Hitam : Rp 11.000\n",
      "    D. Ice Americano : Rp 14.000\n",
      "    ==============================\n",
      "    \n",
      "masukkan list abjad menu kopi =d\n",
      "masukkan jumlah pesanan =12\n",
      "--------------------------\n",
      "Coffe ku\n",
      "--------------------------\n",
      "Menu : ES Americano\n",
      "Jumlah Pesan : 12\n",
      "Harga : 168000\n",
      "Diskon : 0\n",
      "PPN : 16800\n",
      "--------------------------\n",
      "Jumlah Bayar : 184800\n",
      "--------------------------\n"
     ]
    }
   ],
   "source": [
    "pilihan=\"y\"\n",
    "while pilihan==\"y\":\n",
    "    print(\"\"\"\n",
    "    ==============================\n",
    "    \n",
    "    Coffe ku  \n",
    "    List Menu Minuman Kopi \n",
    " \n",
    "    ==============================\n",
    "    A. ES Kopi Susu : Rp 11.000\n",
    "    B. ES Kopi Coklat : Rp 12.000\n",
    "    C. ES Kopi Hitam : Rp 11.000\n",
    "    D. Ice Americano : Rp 14.000\n",
    "    ==============================\n",
    "    \"\"\")\n",
    "    pesan=str(input(\"masukkan list abjad menu kopi =\"))\n",
    "    jumlahpesan=int(input(\"masukkan jumlah pesanan =\"))\n",
    "    if pesan == \"a\":\n",
    "        listnama= \"ES Kopi Susu\"\n",
    "        harga=(11000*jumlahpesan)\n",
    "        ppn= int(harga * 0.1)\n",
    "        if jumlahpesan >= 5:\n",
    "            diskon = int(harga*0.2)\n",
    "            totalharga=int(harga-diskon+ppn)\n",
    "        else:\n",
    "            diskon =(0)\n",
    "            totalharga=int(harga+ppn)\n",
    "    elif pesan == \"b\":\n",
    "        listnama= \"ES Kopi Coklat\"\n",
    "        harga = (12000*jumlahpesan)\n",
    "        ppn = int(harga * 0.1)\n",
    "        if jumlahpesan >= 5:\n",
    "            diskon = int(harga * 0.2)\n",
    "            totalharga =int(harga-diskon+ppn)\n",
    "        else:\n",
    "            diskon =(0)\n",
    "            totalharga =int(harga+ppn)\n",
    "    elif pesan == \"c\":\n",
    "        listnama= \"ES Kopi Hitam\"\n",
    "        harga=int(11000*jumlahpesan)\n",
    "        ppn = int(harga * 0.1)\n",
    "        diskon=0\n",
    "        totalharga=int(harga+ppn)\n",
    "    elif pesan == \"d\":\n",
    "        listnama= \"ES Americano\"\n",
    "        harga=int(14000*jumlahpesan)\n",
    "        ppn = int(harga * 0.1)\n",
    "        diskon=0\n",
    "        totalharga = int(harga+ppn)\n",
    "    else:\n",
    "        listnama = \"-\"\n",
    "        harga = \"-\"\n",
    "        ppn = \"-\"\n",
    "        diskon = \"-\"\n",
    "        totalharga = \"-\"\n",
    "        pilihan=input(\"menu tidak tersedia, silahkan masukkan abjad menu yang tersedia silahkan ulangi kembali Y/N =\")\n",
    " \n",
    "    print(\"--------------------------\")\n",
    "    print(\"Coffe ku\")\n",
    "    print(\"--------------------------\")\n",
    "    print(\"Menu :\",listnama)\n",
    "    print(\"Jumlah Pesan :\", jumlahpesan)\n",
    "    print(\"Harga :\", harga)\n",
    "    print(\"Diskon :\", diskon)\n",
    "    print(\"PPN :\", ppn)\n",
    "    print(\"--------------------------\")\n",
    "    print(\"Jumlah Bayar :\", totalharga)\n",
    "    print(\"--------------------------\")\n",
    "    pilihan=input(\"apakah anda ingin order kembali Y/N =\")"
   ]
  },
  {
   "cell_type": "code",
   "execution_count": null,
   "id": "4fd4353d",
   "metadata": {},
   "outputs": [],
   "source": []
  }
 ],
 "metadata": {
  "kernelspec": {
   "display_name": "Python 3 (ipykernel)",
   "language": "python",
   "name": "python3"
  },
  "language_info": {
   "codemirror_mode": {
    "name": "ipython",
    "version": 3
   },
   "file_extension": ".py",
   "mimetype": "text/x-python",
   "name": "python",
   "nbconvert_exporter": "python",
   "pygments_lexer": "ipython3",
   "version": "3.9.7"
  }
 },
 "nbformat": 4,
 "nbformat_minor": 5
}
